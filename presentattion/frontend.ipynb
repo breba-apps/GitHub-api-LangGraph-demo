{
 "cells": [
  {
   "cell_type": "code",
   "execution_count": null,
   "id": "c7699471-3fe2-4c8e-adca-e40371d8ce41",
   "metadata": {},
   "outputs": [],
   "source": [
    "<!DOCTYPE html>\n",
    "<html lang=\"en\">\n",
    "<head>\n",
    "    <meta charset=\"UTF-8\">\n",
    "    <meta name=\"viewport\" content=\"width=device-width, initial-scale=1.0\">\n",
    "    <title>Data Table</title>\n",
    "    <link rel=\"stylesheet\" href=\"https://stackpath.bootstrapcdn.com/bootstrap/4.5.2/css/bootstrap.min.css\">\n",
    "</head>\n",
    "<body>\n",
    "    <div class=\"container mt-5\">\n",
    "        <button id=\"loadDataBtn\" class=\"btn btn-primary mb-3\">Load Data</button>\n",
    "        <table class=\"table table-striped\">\n",
    "            <tbody id=\"dataTable\">\n",
    "                <!-- Data will be populated here -->\n",
    "            </tbody>\n",
    "        </table>\n",
    "    </div>\n",
    "\n",
    "    <script>\n",
    "        document.getElementById('loadDataBtn').addEventListener('click', async () => {\n",
    "            const response = await fetch('http://localhost:5001/data');\n",
    "            const text = await response.text();\n",
    "            const jsonData = JSON.parse(text).data;\n",
    "            const dataTable = document.getElementById('dataTable');\n",
    "            dataTable.innerHTML = '';\n",
    "\n",
    "            if (jsonData.length > 0) {\n",
    "                // Create table headers\n",
    "                const headers = Object.keys(jsonData[0]);\n",
    "                const thead = document.createElement('thead');\n",
    "                const headerRow = document.createElement('tr');\n",
    "                headers.forEach(header => {\n",
    "                    const th = document.createElement('th');\n",
    "                    th.textContent = header;\n",
    "                    headerRow.appendChild(th);\n",
    "                });\n",
    "                thead.appendChild(headerRow);\n",
    "                dataTable.appendChild(thead);\n",
    "\n",
    "                // Create table rows\n",
    "                const tbody = document.createElement('tbody');\n",
    "                jsonData.forEach(row => {\n",
    "                    const tr = document.createElement('tr');\n",
    "                    headers.forEach(header => {\n",
    "                        const td = document.createElement('td');\n",
    "                        td.textContent = row[header];\n",
    "                        tr.appendChild(td);\n",
    "                    });\n",
    "                    tbody.appendChild(tr);\n",
    "                });\n",
    "                dataTable.appendChild(tbody);\n",
    "            }\n",
    "        });\n",
    "    </script>\n",
    "</body>\n",
    "</html>\n"
   ]
  },
  {
   "cell_type": "code",
   "execution_count": 2,
   "id": "5a9c7c7a-2896-467f-af91-f5f4d9d1d65b",
   "metadata": {},
   "outputs": [
    {
     "data": {
      "text/html": [
       "<a href=\"\", data-commandlinker-command=\"terminal:create-new\">npm --prefix ./frontend start</a>"
      ],
      "text/plain": [
       "<IPython.core.display.HTML object>"
      ]
     },
     "execution_count": 2,
     "metadata": {},
     "output_type": "execute_result"
    }
   ],
   "source": [
    "from IPython.display import HTML\n",
    "HTML('<a href=\"\", data-commandlinker-command=\"terminal:create-new\">npm --prefix ./frontend start</a>')"
   ]
  },
  {
   "cell_type": "code",
   "execution_count": 2,
   "id": "9f76614f-cedb-493d-ad32-43f4bae82900",
   "metadata": {},
   "outputs": [
    {
     "data": {
      "text/plain": [
       "True"
      ]
     },
     "execution_count": 2,
     "metadata": {},
     "output_type": "execute_result"
    }
   ],
   "source": [
    "import webbrowser\n",
    "webbrowser.open(\"http://localhost:3000\")"
   ]
  },
  {
   "cell_type": "code",
   "execution_count": 1,
   "id": "f891b2c5-aa4f-4eb8-a13b-db62a6e7f09d",
   "metadata": {},
   "outputs": [
    {
     "data": {
      "text/plain": [
       "True"
      ]
     },
     "execution_count": 1,
     "metadata": {},
     "output_type": "execute_result"
    }
   ],
   "source": [
    "import webbrowser\n",
    "webbrowser.open(\"http://localhost:5001/data\")"
   ]
  }
 ],
 "metadata": {
  "kernelspec": {
   "display_name": "Python 3 (ipykernel)",
   "language": "python",
   "name": "python3"
  },
  "language_info": {
   "codemirror_mode": {
    "name": "ipython",
    "version": 3
   },
   "file_extension": ".py",
   "mimetype": "text/x-python",
   "name": "python",
   "nbconvert_exporter": "python",
   "pygments_lexer": "ipython3",
   "version": "3.12.4"
  }
 },
 "nbformat": 4,
 "nbformat_minor": 5
}
