{
 "cells": [
  {
   "cell_type": "code",
   "execution_count": null,
   "id": "7476310a-9356-4460-878c-4efc76cb3e65",
   "metadata": {},
   "outputs": [],
   "source": [
    "!pip install -r requirements.txt"
   ]
  },
  {
   "cell_type": "code",
   "execution_count": null,
   "id": "0cab621e-bc5f-464e-90d9-d1d0761b77c0",
   "metadata": {},
   "outputs": [],
   "source": [
    "from langchain_community.agent_toolkits.github.toolkit import GitHubToolkit\n",
    "from langchain_community.utilities.github import GitHubAPIWrapper\n",
    "from langchain_openai import ChatOpenAI\n",
    "from langgraph.prebuilt import create_react_agent\n",
    "\n",
    "from dotenv import load_dotenv\n",
    "\n",
    "load_dotenv()"
   ]
  },
  {
   "cell_type": "code",
   "execution_count": null,
   "id": "ef339135-d484-473e-9e67-071114d31cfa",
   "metadata": {},
   "outputs": [],
   "source": [
    "# Instantiate GitHub Toolkit\n",
    "toolkit = GitHubToolkit.from_github_api_wrapper(GitHubAPIWrapper())\n",
    "tools = [setattr(tool, \"name\", tool.mode) or tool for tool in toolkit.get_tools()]\n",
    "\n",
    "llm = ChatOpenAI(model=\"gpt-4o\", temperature=0)\n",
    "\n",
    "agent_executor = create_react_agent(llm, tools)\n",
    "\n",
    "def ai(query: str):\n",
    "    # System prompt allows for broad range of instructions. But what does user input look like?\n",
    "    events = agent_executor.stream(\n",
    "        {\"messages\": [(\"system\",\n",
    "                       \"You are a web server, serving HTML web pages. Do not use markdown for formatting. \"\n",
    "                       \"All output must be in HTML format and will be displayed to an end user. \"\n",
    "                       \"You need to start with doctype and html tags and provide the entire page\"),\n",
    "                      (\"user\", query)]},\n",
    "        stream_mode=\"values\",\n",
    "    )\n",
    "    data = \"\"\n",
    "    for event in events:\n",
    "        event[\"messages\"][-1].pretty_print()\n",
    "        data = event[\"messages\"][-1]\n",
    "\n",
    "    return data.content\n"
   ]
  },
  {
   "cell_type": "code",
   "execution_count": null,
   "id": "e1552043-ba37-40f8-b857-9e6abbd6830b",
   "metadata": {},
   "outputs": [],
   "source": [
    "from pathlib import Path\n",
    "\n",
    "from dotenv import load_dotenv\n",
    "from flask import Flask, request\n",
    "\n",
    "\n",
    "# Load environment variables from .env\n",
    "load_dotenv()\n",
    "\n",
    "app = Flask(__name__)\n",
    "\n",
    "@app.route('/', methods=['GET'])\n",
    "def get_data():\n",
    "    # Wow where is the logic?\n",
    "    return ai(Path(\"my_app-step-3.txt\").read_text())\n"
   ]
  },
  {
   "cell_type": "markdown",
   "id": "083002a4-d5e8-4db3-bf46-8e83c9904557",
   "metadata": {},
   "source": [
    "## Goals\n",
    "- Write natural language only\n",
    "- Unstructured data\n",
    "- Implicit algorithms\n",
    "- ~~Dynamic tools~~\n",
    "- ~~Human in the loop built-in~~\n",
    "- ~~Consistent output~~\n",
    "- ~~Iterative development~~"
   ]
  },
  {
   "cell_type": "code",
   "execution_count": null,
   "id": "599a4ebb-84c6-4cd1-9786-92289a598d0a",
   "metadata": {},
   "outputs": [],
   "source": [
    "app.run(debug=False, port=5001, use_reloader=False)"
   ]
  },
  {
   "cell_type": "code",
   "execution_count": null,
   "id": "17e882fe-f722-432c-87f4-cfb0258f6a49",
   "metadata": {},
   "outputs": [],
   "source": []
  }
 ],
 "metadata": {
  "kernelspec": {
   "display_name": "Python 3 (ipykernel)",
   "language": "python",
   "name": "python3"
  },
  "language_info": {
   "codemirror_mode": {
    "name": "ipython",
    "version": 3
   },
   "file_extension": ".py",
   "mimetype": "text/x-python",
   "name": "python",
   "nbconvert_exporter": "python",
   "pygments_lexer": "ipython3",
   "version": "3.12.4"
  }
 },
 "nbformat": 4,
 "nbformat_minor": 5
}
