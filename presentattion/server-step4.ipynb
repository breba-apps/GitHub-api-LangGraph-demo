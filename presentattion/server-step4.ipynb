{
 "cells": [
  {
   "cell_type": "code",
   "execution_count": null,
   "id": "9da1f15c-c91e-475b-8305-b9d8a1a2720a",
   "metadata": {},
   "outputs": [],
   "source": [
    "!pip install langchain_openai langgraph langchain_community PyGithub flask"
   ]
  },
  {
   "cell_type": "code",
   "execution_count": 1,
   "id": "0cab621e-bc5f-464e-90d9-d1d0761b77c0",
   "metadata": {},
   "outputs": [
    {
     "data": {
      "text/plain": [
       "True"
      ]
     },
     "execution_count": 1,
     "metadata": {},
     "output_type": "execute_result"
    }
   ],
   "source": [
    "from langchain_community.agent_toolkits.github.toolkit import GitHubToolkit\n",
    "from langchain_community.utilities.github import GitHubAPIWrapper\n",
    "from langchain_openai import ChatOpenAI\n",
    "from langgraph.prebuilt import create_react_agent\n",
    "\n",
    "from dotenv import load_dotenv\n",
    "\n",
    "load_dotenv()"
   ]
  },
  {
   "cell_type": "code",
   "execution_count": 3,
   "id": "ef339135-d484-473e-9e67-071114d31cfa",
   "metadata": {},
   "outputs": [],
   "source": [
    "# Instantiate GitHub Toolkit\n",
    "toolkit = GitHubToolkit.from_github_api_wrapper(GitHubAPIWrapper())\n",
    "tools = [setattr(tool, \"name\", tool.mode) or tool for tool in toolkit.get_tools()]\n",
    "\n",
    "llm = ChatOpenAI(model=\"gpt-4o\", temperature=0)\n",
    "act_llm = ChatOpenAI(model=\"o1-mini\", temperature=0)\n",
    "\n",
    "agent_executor = create_react_agent(llm, tools)\n",
    "\n",
    "act_agent = create_react_agent(act_llm, tools)\n",
    "\n",
    "def ai(query: str):\n",
    "    # System prompt allows for broad range of instructions. But what does user input look like?\n",
    "    events = agent_executor.stream(\n",
    "        {\"messages\": [(\"system\",\n",
    "                       \"You are a web server, serving HTML web pages. Do not use markdown for formatting. \"\n",
    "                       \"All output must be in HTML format and will be displayed to an end user. \"\n",
    "                       \"You need to start with doctype and html tags and provide the entire page\"),\n",
    "                      (\"user\", query)]},\n",
    "        stream_mode=\"values\",\n",
    "    )\n",
    "    data = \"\"\n",
    "    for event in events:\n",
    "        event[\"messages\"][-1].pretty_print()\n",
    "        data = event[\"messages\"][-1]\n",
    "\n",
    "    return data.content\n",
    "\n",
    "def ai_act(query: str):\n",
    "    events = agent_executor.stream(\n",
    "        {\"messages\": [(\"system\",\n",
    "                       \"You are a web server. Do not use markdown for formatting. Do exactly what the user asks. Do not use markdown in your response. Produce minimal output.\"),\n",
    "                      (\"user\", query)]},\n",
    "        stream_mode=\"values\",\n",
    "    )\n",
    "    data = \"\"\n",
    "    for event in events:\n",
    "        event[\"messages\"][-1].pretty_print()\n",
    "        data = event[\"messages\"][-1]\n",
    "\n",
    "    return data.content\n"
   ]
  },
  {
   "cell_type": "code",
   "execution_count": 4,
   "id": "e1552043-ba37-40f8-b857-9e6abbd6830b",
   "metadata": {},
   "outputs": [],
   "source": [
    "from pathlib import Path\n",
    "\n",
    "from dotenv import load_dotenv\n",
    "from flask import Flask, request\n",
    "\n",
    "# Load environment variables from .env\n",
    "load_dotenv()\n",
    "\n",
    "app = Flask(__name__)\n",
    "\n",
    "@app.route('/', methods=['GET'])\n",
    "def get_data():\n",
    "    # Wow where is the logic?\n",
    "    return ai(Path(\"my_app-step-4.txt\").read_text())\n",
    "\n",
    "@app.route('/act', methods=['POST'])\n",
    "def act():\n",
    "    payload = request.data.decode('utf-8')\n",
    "    print(request)\n",
    "    return ai_act(payload)\n"
   ]
  },
  {
   "cell_type": "markdown",
   "id": "083002a4-d5e8-4db3-bf46-8e83c9904557",
   "metadata": {},
   "source": [
    "## Goals\n",
    "- Write natural language only\n",
    "- Unstructured data\n",
    "- Implicit algorithms\n",
    "- ~~Dynamic tools~~\n",
    "- ~~Human in the loop built-in~~\n",
    "- ~~Consistent output~~\n",
    "- ~~Iterative development~~"
   ]
  },
  {
   "cell_type": "code",
   "execution_count": null,
   "id": "599a4ebb-84c6-4cd1-9786-92289a598d0a",
   "metadata": {},
   "outputs": [
    {
     "name": "stdout",
     "output_type": "stream",
     "text": [
      " * Serving Flask app '__main__'\n",
      " * Debug mode: off\n"
     ]
    },
    {
     "name": "stderr",
     "output_type": "stream",
     "text": [
      "\u001b[31m\u001b[1mWARNING: This is a development server. Do not use it in a production deployment. Use a production WSGI server instead.\u001b[0m\n",
      " * Running on http://127.0.0.1:5001\n",
      "\u001b[33mPress CTRL+C to quit\u001b[0m\n"
     ]
    },
    {
     "name": "stdout",
     "output_type": "stream",
     "text": [
      "================================\u001b[1m Human Message \u001b[0m=================================\n",
      "\n",
      "Show me all issues that I can comment on.\n",
      "For each issue Show the following:\n",
      "1. List of all comments on that issue\n",
      "2. A text box and a button.\n",
      "The button will submit this comment to an issue.\n",
      "\n",
      "When you press the button, it should make a request to http://127.0.0.1:5001/act\n",
      "The payload should include the text of the textbox, the GitHub issue id, and be presented as a prompt to another agent.\n",
      "It needs to explain to the Agent that we are commenting on the issue.\n",
      "\n",
      "At the bottom of the page have a status bar that shows response from the \"/act\" endpoint\n",
      "\n",
      "The \"/act\" endpoint takes in a plain text prompt that looks like this:\n",
      "Write a comment for the issue.\n",
      "Issue ID: 2, Comment: hello\n",
      "\n",
      "The response from the \"/act\" endpoint is HTML, not JSON\n",
      "==================================\u001b[1m Ai Message \u001b[0m==================================\n",
      "Tool Calls:\n",
      "  get_issues (call_kaou7dZVBwoC3Pv6Jx4jtYJE)\n",
      " Call ID: call_kaou7dZVBwoC3Pv6Jx4jtYJE\n",
      "  Args:\n",
      "    no_input:\n",
      "=================================\u001b[1m Tool Message \u001b[0m=================================\n",
      "Name: get_issues\n",
      "\n",
      "Found 2 issues:\n",
      "[{'title': 'This is my second issue', 'number': 2, 'opened_by': 'yasonk'}, {'title': 'First issue here you go', 'number': 1, 'opened_by': 'yasonk'}]\n",
      "==================================\u001b[1m Ai Message \u001b[0m==================================\n",
      "Tool Calls:\n",
      "  get_issue (call_SHwnqDKAVSRWtVzGnQWCbmMR)\n",
      " Call ID: call_SHwnqDKAVSRWtVzGnQWCbmMR\n",
      "  Args:\n",
      "    issue_number: 2\n",
      "  get_issue (call_7qqRhFftQHvCq2yj9KJNmwuM)\n",
      " Call ID: call_7qqRhFftQHvCq2yj9KJNmwuM\n",
      "  Args:\n",
      "    issue_number: 1\n",
      "=================================\u001b[1m Tool Message \u001b[0m=================================\n",
      "Name: get_issue\n",
      "\n",
      "{\"number\": 1, \"title\": \"First issue here you go\", \"body\": \"This is my first issue. I like reporting things to the maintainers.\", \"comments\": \"[{'body': 'Hello', 'user': 'demo-agent-app-1[bot]'}, {'body': 'Bye', 'user': 'demo-agent-app-1[bot]'}, {'body': 'Another', 'user': 'demo-agent-app-1[bot]'}, {'body': 'Another', 'user': 'demo-agent-app-1[bot]'}]\", \"opened_by\": \"yasonk\"}\n"
     ]
    },
    {
     "name": "stderr",
     "output_type": "stream",
     "text": [
      "127.0.0.1 - - [26/Mar/2025 11:19:44] \"GET / HTTP/1.1\" 200 -\n"
     ]
    },
    {
     "name": "stdout",
     "output_type": "stream",
     "text": [
      "==================================\u001b[1m Ai Message \u001b[0m==================================\n",
      "\n",
      "<!DOCTYPE html>\n",
      "<html lang=\"en\">\n",
      "<head>\n",
      "    <meta charset=\"UTF-8\">\n",
      "    <meta name=\"viewport\" content=\"width=device-width, initial-scale=1.0\">\n",
      "    <title>GitHub Issues</title>\n",
      "    <style>\n",
      "        .issue {\n",
      "            border: 1px solid #ccc;\n",
      "            padding: 10px;\n",
      "            margin-bottom: 20px;\n",
      "        }\n",
      "        .comments {\n",
      "            margin-top: 10px;\n",
      "            padding-left: 20px;\n",
      "        }\n",
      "        .comment-box {\n",
      "            margin-top: 10px;\n",
      "        }\n",
      "        .status-bar {\n",
      "            margin-top: 20px;\n",
      "            padding: 10px;\n",
      "            background-color: #f0f0f0;\n",
      "            border: 1px solid #ccc;\n",
      "        }\n",
      "    </style>\n",
      "    <script>\n",
      "        function submitComment(issueId) {\n",
      "            const commentText = document.getElementById('comment-text-' + issueId).value;\n",
      "            const payload = `Write a comment for the issue.\\nIssue ID: ${issueId}, Comment: ${commentText}`;\n",
      "            \n",
      "            fetch('http://127.0.0.1:5001/act', {\n",
      "                method: 'POST',\n",
      "                headers: {\n",
      "                    'Content-Type': 'text/plain'\n",
      "                },\n",
      "                body: payload\n",
      "            })\n",
      "            .then(response => response.text())\n",
      "            .then(data => {\n",
      "                document.getElementById('status-bar').innerHTML = data;\n",
      "            })\n",
      "            .catch(error => {\n",
      "                document.getElementById('status-bar').innerHTML = 'Error: ' + error;\n",
      "            });\n",
      "        }\n",
      "    </script>\n",
      "</head>\n",
      "<body>\n",
      "\n",
      "    <div class=\"issue\">\n",
      "        <h2>Issue #2: This is my second issue</h2>\n",
      "        <p>Need another issue, because features are missing</p>\n",
      "        <div class=\"comments\">\n",
      "            <h3>Comments:</h3>\n",
      "            <ul>\n",
      "                <li><strong>yasonk:</strong> Comment 1, because I'm building a community</li>\n",
      "                <li><strong>yasonk:</strong> Comment 2, Because need to keep it going</li>\n",
      "                <li><strong>yasonk:</strong> Comment 3, because I'm awesome </li>\n",
      "                <li><strong>demo-agent-app-1[bot]:</strong> Here is another comment</li>\n",
      "            </ul>\n",
      "        </div>\n",
      "        <div class=\"comment-box\">\n",
      "            <textarea id=\"comment-text-2\" rows=\"3\" cols=\"50\" placeholder=\"Write your comment here...\"></textarea><br>\n",
      "            <button onclick=\"submitComment(2)\">Submit Comment</button>\n",
      "        </div>\n",
      "    </div>\n",
      "\n",
      "    <div class=\"issue\">\n",
      "        <h2>Issue #1: First issue here you go</h2>\n",
      "        <p>This is my first issue. I like reporting things to the maintainers.</p>\n",
      "        <div class=\"comments\">\n",
      "            <h3>Comments:</h3>\n",
      "            <ul>\n",
      "                <li><strong>demo-agent-app-1[bot]:</strong> Hello</li>\n",
      "                <li><strong>demo-agent-app-1[bot]:</strong> Bye</li>\n",
      "                <li><strong>demo-agent-app-1[bot]:</strong> Another</li>\n",
      "                <li><strong>demo-agent-app-1[bot]:</strong> Another</li>\n",
      "            </ul>\n",
      "        </div>\n",
      "        <div class=\"comment-box\">\n",
      "            <textarea id=\"comment-text-1\" rows=\"3\" cols=\"50\" placeholder=\"Write your comment here...\"></textarea><br>\n",
      "            <button onclick=\"submitComment(1)\">Submit Comment</button>\n",
      "        </div>\n",
      "    </div>\n",
      "\n",
      "    <div id=\"status-bar\" class=\"status-bar\">\n",
      "        Status: Waiting for action...\n",
      "    </div>\n",
      "\n",
      "</body>\n",
      "</html>\n",
      "<Request 'http://127.0.0.1:5001/act' [POST]>\n",
      "================================\u001b[1m Human Message \u001b[0m=================================\n",
      "\n",
      "Write a comment for the issue.\n",
      "Issue ID: 1, Comment: 5th comment here\n",
      "==================================\u001b[1m Ai Message \u001b[0m==================================\n",
      "Tool Calls:\n",
      "  comment_on_issue (call_ZxOj4T1aJSvWTNwg87i4rQov)\n",
      " Call ID: call_ZxOj4T1aJSvWTNwg87i4rQov\n",
      "  Args:\n",
      "    input: 1\n",
      "\n",
      "5th comment here\n",
      "=================================\u001b[1m Tool Message \u001b[0m=================================\n",
      "Name: comment_on_issue\n",
      "\n",
      "Commented on issue 1\n"
     ]
    },
    {
     "name": "stderr",
     "output_type": "stream",
     "text": [
      "127.0.0.1 - - [26/Mar/2025 11:20:04] \"POST /act HTTP/1.1\" 200 -\n"
     ]
    },
    {
     "name": "stdout",
     "output_type": "stream",
     "text": [
      "==================================\u001b[1m Ai Message \u001b[0m==================================\n",
      "\n",
      "The comment \"5th comment here\" has been added to issue ID 1.\n"
     ]
    }
   ],
   "source": [
    "app.run(debug=False, port=5001, use_reloader=False)"
   ]
  },
  {
   "cell_type": "code",
   "execution_count": null,
   "id": "17e882fe-f722-432c-87f4-cfb0258f6a49",
   "metadata": {},
   "outputs": [],
   "source": []
  }
 ],
 "metadata": {
  "kernelspec": {
   "display_name": "Python 3 (ipykernel)",
   "language": "python",
   "name": "python3"
  },
  "language_info": {
   "codemirror_mode": {
    "name": "ipython",
    "version": 3
   },
   "file_extension": ".py",
   "mimetype": "text/x-python",
   "name": "python",
   "nbconvert_exporter": "python",
   "pygments_lexer": "ipython3",
   "version": "3.12.4"
  }
 },
 "nbformat": 4,
 "nbformat_minor": 5
}
