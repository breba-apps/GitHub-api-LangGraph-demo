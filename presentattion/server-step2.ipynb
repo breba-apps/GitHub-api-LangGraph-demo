{
 "cells": [
  {
   "cell_type": "code",
   "execution_count": 2,
   "id": "f83120e0-b19c-496b-a279-cd634f8860d1",
   "metadata": {},
   "outputs": [],
   "source": [
    "import json\n",
    "from typing import Type\n",
    "\n",
    "from dotenv import load_dotenv\n",
    "from langchain_community.agent_toolkits.github.toolkit import GitHubToolkit\n",
    "from langchain_community.utilities.github import GitHubAPIWrapper\n",
    "from langchain_openai import ChatOpenAI\n",
    "from langgraph.prebuilt import create_react_agent\n",
    "from pydantic import BaseModel\n",
    "\n",
    "load_dotenv()\n",
    "\n",
    "# Instantiate GitHub Toolkit\n",
    "toolkit = GitHubToolkit.from_github_api_wrapper(GitHubAPIWrapper())\n",
    "tools = [setattr(tool, \"name\", tool.mode) or tool for tool in toolkit.get_tools()]\n",
    "\n",
    "llm = ChatOpenAI(model=\"gpt-4o\", temperature=0)\n",
    "\n",
    "def ai(query: str, response_format: Type[BaseModel]):\n",
    "    agent_executor = create_react_agent(llm, tools, response_format=response_format)\n",
    "    events = agent_executor.stream(\n",
    "        {\"messages\": [(\"user\", query)]},\n",
    "        stream_mode=\"values\",\n",
    "    )\n",
    "    event = {}\n",
    "    for event in events:\n",
    "        event[\"messages\"][-1].pretty_print()\n",
    "\n",
    "    structured_response = event.get(\"structured_response\")\n",
    "    data = {\"data\": [structured_response.model_dump()]}\n",
    "    print(data)\n",
    "    return json.dumps(data)\n"
   ]
  },
  {
   "cell_type": "code",
   "execution_count": 3,
   "id": "53a1725b-0465-47c7-90b0-6ba86202fa2d",
   "metadata": {},
   "outputs": [],
   "source": [
    "from dotenv import load_dotenv\n",
    "from flask import Flask\n",
    "from flask_cors import CORS\n",
    "from pydantic import BaseModel\n",
    "\n",
    "# Load environment variables from .env\n",
    "load_dotenv()\n",
    "\n",
    "app = Flask(__name__)\n",
    "CORS(app, resources={r\"/*\": {\"origins\": \"http://localhost:3000\"}})\n",
    "\n",
    "\n",
    "class Author(BaseModel):\n",
    "    \"\"\"Respond to the user in this format.\"\"\"\n",
    "    name: str\n",
    "    issue_count: int\n",
    "    comment_count: int\n",
    "\n",
    "\n",
    "@app.route('/data', methods=['GET'])\n",
    "def get_data():\n",
    "    query = (\"For the most prolific author of github issues, give me the number of issues they have created. \"\n",
    "             \"Given the author's issues, I want to know the number of comments that same author has made.\" )\n",
    "\n",
    "    # We are trying to get rid of engineering as much as possible, but Author and tools implementation is still in the way\n",
    "    return ai(query, response_format=Author)\n",
    "    "
   ]
  },
  {
   "cell_type": "markdown",
   "id": "2c402117-ffa8-4216-b8e8-034c8b2540cc",
   "metadata": {},
   "source": [
    "## Goals\n",
    "- ~~Write natural language only~~\n",
    "- ~~Unstructured data~~\n",
    "- Implicit algorithms\n",
    "- ~~Dynamic tools~~\n",
    "- ~~Human in the loop built-in~~\n",
    "- ~~Consistent output~~\n",
    "- ~~Iterative development~~"
   ]
  },
  {
   "cell_type": "code",
   "execution_count": 4,
   "id": "2d2eb33d-1241-4244-a5e8-9ad92838bbdf",
   "metadata": {},
   "outputs": [
    {
     "name": "stdout",
     "output_type": "stream",
     "text": [
      " * Serving Flask app '__main__'\n",
      " * Debug mode: off\n"
     ]
    },
    {
     "name": "stderr",
     "output_type": "stream",
     "text": [
      "\u001b[31m\u001b[1mWARNING: This is a development server. Do not use it in a production deployment. Use a production WSGI server instead.\u001b[0m\n",
      " * Running on http://127.0.0.1:5001\n",
      "\u001b[33mPress CTRL+C to quit\u001b[0m\n"
     ]
    },
    {
     "name": "stdout",
     "output_type": "stream",
     "text": [
      "================================\u001b[1m Human Message \u001b[0m=================================\n",
      "\n",
      "For the most prolific author of github issues, give me the number of issues they have created. Given the author's issues, I want to know the number of comments that same author has made.\n",
      "==================================\u001b[1m Ai Message \u001b[0m==================================\n",
      "Tool Calls:\n",
      "  get_issues (call_VvT4ynAuuM6HS6Wp0TWA2ibo)\n",
      " Call ID: call_VvT4ynAuuM6HS6Wp0TWA2ibo\n",
      "  Args:\n",
      "    no_input:\n",
      "=================================\u001b[1m Tool Message \u001b[0m=================================\n",
      "Name: get_issues\n",
      "\n",
      "Found 2 issues:\n",
      "[{'title': 'This is my second issue', 'number': 2, 'opened_by': 'yasonk'}, {'title': 'First issue here you go', 'number': 1, 'opened_by': 'yasonk'}]\n",
      "==================================\u001b[1m Ai Message \u001b[0m==================================\n",
      "Tool Calls:\n",
      "  get_issue (call_zTNlLpRi7Zu6WmGCgG9LuWKc)\n",
      " Call ID: call_zTNlLpRi7Zu6WmGCgG9LuWKc\n",
      "  Args:\n",
      "    issue_number: 2\n",
      "  get_issue (call_Vcdfvsve4RPsEBCzaAlFqnhk)\n",
      " Call ID: call_Vcdfvsve4RPsEBCzaAlFqnhk\n",
      "  Args:\n",
      "    issue_number: 1\n",
      "=================================\u001b[1m Tool Message \u001b[0m=================================\n",
      "Name: get_issue\n",
      "\n",
      "{\"number\": 1, \"title\": \"First issue here you go\", \"body\": \"This is my first issue. I like reporting things to the maintainers.\", \"comments\": \"[]\", \"opened_by\": \"yasonk\"}\n",
      "==================================\u001b[1m Ai Message \u001b[0m==================================\n",
      "\n",
      "The most prolific author of GitHub issues is \"yasonk,\" who has created 2 issues. This author has also made a total of 3 comments on their issues.\n"
     ]
    },
    {
     "name": "stderr",
     "output_type": "stream",
     "text": [
      "127.0.0.1 - - [26/Feb/2025 19:06:58] \"GET /data HTTP/1.1\" 200 -\n"
     ]
    },
    {
     "name": "stdout",
     "output_type": "stream",
     "text": [
      "==================================\u001b[1m Ai Message \u001b[0m==================================\n",
      "\n",
      "The most prolific author of GitHub issues is \"yasonk,\" who has created 2 issues. This author has also made a total of 3 comments on their issues.\n",
      "{'data': [{'name': 'yasonk', 'issue_count': 2, 'comment_count': 3}]}\n",
      "================================\u001b[1m Human Message \u001b[0m=================================\n",
      "\n",
      "For the most prolific author of github issues, give me the number of issues they have created. Given the author's issues, I want to know the number of comments that same author has made.\n",
      "==================================\u001b[1m Ai Message \u001b[0m==================================\n",
      "Tool Calls:\n",
      "  get_issues (call_ZnrztDxohc9Q71Jihb6uxx6A)\n",
      " Call ID: call_ZnrztDxohc9Q71Jihb6uxx6A\n",
      "  Args:\n",
      "    no_input:\n",
      "=================================\u001b[1m Tool Message \u001b[0m=================================\n",
      "Name: get_issues\n",
      "\n",
      "Found 2 issues:\n",
      "[{'title': 'This is my second issue', 'number': 2, 'opened_by': 'yasonk'}, {'title': 'First issue here you go', 'number': 1, 'opened_by': 'yasonk'}]\n",
      "==================================\u001b[1m Ai Message \u001b[0m==================================\n",
      "Tool Calls:\n",
      "  get_issue (call_fA8Ppo8fFwMbnw5LThouuYJl)\n",
      " Call ID: call_fA8Ppo8fFwMbnw5LThouuYJl\n",
      "  Args:\n",
      "    issue_number: 2\n",
      "  get_issue (call_NqY7G5WvbZSVm4kLzbW2S68H)\n",
      " Call ID: call_NqY7G5WvbZSVm4kLzbW2S68H\n",
      "  Args:\n",
      "    issue_number: 1\n",
      "=================================\u001b[1m Tool Message \u001b[0m=================================\n",
      "Name: get_issue\n",
      "\n",
      "{\"number\": 1, \"title\": \"First issue here you go\", \"body\": \"This is my first issue. I like reporting things to the maintainers.\", \"comments\": \"[]\", \"opened_by\": \"yasonk\"}\n",
      "==================================\u001b[1m Ai Message \u001b[0m==================================\n",
      "\n",
      "The most prolific author of GitHub issues is \"yasonk,\" who has created 2 issues. Additionally, \"yasonk\" has made a total of 3 comments on these issues.\n"
     ]
    },
    {
     "name": "stderr",
     "output_type": "stream",
     "text": [
      "127.0.0.1 - - [26/Feb/2025 19:08:07] \"GET /data HTTP/1.1\" 200 -\n"
     ]
    },
    {
     "name": "stdout",
     "output_type": "stream",
     "text": [
      "==================================\u001b[1m Ai Message \u001b[0m==================================\n",
      "\n",
      "The most prolific author of GitHub issues is \"yasonk,\" who has created 2 issues. Additionally, \"yasonk\" has made a total of 3 comments on these issues.\n",
      "{'data': [{'name': 'yasonk', 'issue_count': 2, 'comment_count': 3}]}\n"
     ]
    }
   ],
   "source": [
    "app.run(debug=False, port=5001, use_reloader=False)"
   ]
  }
 ],
 "metadata": {
  "kernelspec": {
   "display_name": "Python 3 (ipykernel)",
   "language": "python",
   "name": "python3"
  },
  "language_info": {
   "codemirror_mode": {
    "name": "ipython",
    "version": 3
   },
   "file_extension": ".py",
   "mimetype": "text/x-python",
   "name": "python",
   "nbconvert_exporter": "python",
   "pygments_lexer": "ipython3",
   "version": "3.12.4"
  }
 },
 "nbformat": 4,
 "nbformat_minor": 5
}
