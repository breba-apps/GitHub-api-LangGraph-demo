{
 "cells": [
  {
   "cell_type": "markdown",
   "id": "4f0ddc97-1c10-49a1-b725-d88b06befdc7",
   "metadata": {},
   "source": [
    "<div align=\"center\">\n",
    "  <h1 style=\"color: orange;\">ReAct</h1>\n",
    "</div>\n",
    "\n",
    "- <span style=\"font-size: 20px;\"><b>ReAct: Synergizing Reasoning And Acting In Language Models</b></span>  \n",
    "  [https://arxiv.org/pdf/2210.03629](https://arxiv.org/pdf/2210.03629)\n",
    "- <span style=\"font-size: 20px;\"><b>Reason - Act - Observe - Iterate loop</b></span>\n",
    "- <span style=\"font-size: 20px;\"><b>Tool calling support</b></span>\n",
    "- <span style=\"font-size: 20px;\"><b>Prebuilt Agent Limitations</b></span>\n",
    "\n",
    "<img src=\"./graph.png\" alt=\"ReAct Flowchart\" style=\"float: right; width: 300px;\">"
   ]
  },
  {
   "cell_type": "code",
   "execution_count": null,
   "id": "f83120e0-b19c-496b-a279-cd634f8860d1",
   "metadata": {},
   "outputs": [],
   "source": [
    "import json\n",
    "from typing import Type\n",
    "\n",
    "from dotenv import load_dotenv\n",
    "from langchain_community.agent_toolkits.github.toolkit import GitHubToolkit\n",
    "from langchain_community.utilities.github import GitHubAPIWrapper\n",
    "from langchain_openai import ChatOpenAI\n",
    "from langgraph.prebuilt import create_react_agent\n",
    "from pydantic import BaseModel\n",
    "\n",
    "load_dotenv()\n",
    "\n",
    "# Precoded tools (not dynamic)\n",
    "toolkit = GitHubToolkit.from_github_api_wrapper(GitHubAPIWrapper())\n",
    "tools = [setattr(tool, \"name\", tool.mode) or tool for tool in toolkit.get_tools()]\n",
    "\n",
    "llm = ChatOpenAI(model=\"gpt-4o\", temperature=0)\n",
    "\n",
    "def ai(query: str, response_format: Type[BaseModel]):\n",
    "    agent_executor = create_react_agent(llm, tools, response_format=response_format)\n",
    "    events = agent_executor.stream(\n",
    "        {\"messages\": [(\"user\", query)]},\n",
    "        stream_mode=\"values\",\n",
    "    )\n",
    "    event = {}\n",
    "    for event in events:\n",
    "        event[\"messages\"][-1].pretty_print()\n",
    "\n",
    "    structured_response = event.get(\"structured_response\")\n",
    "    data = {\"data\": [structured_response.model_dump()]}\n",
    "    print(data)\n",
    "    return json.dumps(data)\n"
   ]
  },
  {
   "cell_type": "code",
   "execution_count": null,
   "id": "53a1725b-0465-47c7-90b0-6ba86202fa2d",
   "metadata": {},
   "outputs": [],
   "source": [
    "from dotenv import load_dotenv\n",
    "from flask import Flask\n",
    "from flask_cors import CORS\n",
    "from pydantic import BaseModel\n",
    "\n",
    "# Load environment variables from .env\n",
    "load_dotenv()\n",
    "\n",
    "app = Flask(__name__)\n",
    "CORS(app, resources={r\"/*\": {\"origins\": \"http://localhost:3000\"}})\n",
    "\n",
    "\n",
    "class Author(BaseModel):\n",
    "    \"\"\"Respond to the user in this format.\"\"\"\n",
    "    name: str\n",
    "    issue_count: int\n",
    "    comment_count: int\n",
    "\n",
    "\n",
    "@app.route('/data', methods=['GET'])\n",
    "def get_data():\n",
    "    query = (\"For the most prolific author of github issues, give me the number of issues they have created. \"\n",
    "             \"Given the author's issues, I want to know the number of comments that same author has made.\" )\n",
    "\n",
    "    # We are trying to get rid of engineering as much as possible, but Author and tools implementation is still in the way\n",
    "    return ai(query, response_format=Author)\n",
    "    "
   ]
  },
  {
   "cell_type": "markdown",
   "id": "2c402117-ffa8-4216-b8e8-034c8b2540cc",
   "metadata": {},
   "source": [
    "## Goals\n",
    "- ~~Write natural language only~~\n",
    "- ~~Unstructured data~~\n",
    "- Implicit algorithms\n",
    "- ~~Dynamic tools~~\n",
    "- ~~Human in the loop built-in~~\n",
    "- ~~Consistent output~~\n",
    "- ~~Iterative development~~"
   ]
  },
  {
   "cell_type": "code",
   "execution_count": null,
   "id": "2d2eb33d-1241-4244-a5e8-9ad92838bbdf",
   "metadata": {},
   "outputs": [],
   "source": [
    "app.run(debug=False, port=5001, use_reloader=False)"
   ]
  }
 ],
 "metadata": {
  "kernelspec": {
   "display_name": "Python 3 (ipykernel)",
   "language": "python",
   "name": "python3"
  },
  "language_info": {
   "codemirror_mode": {
    "name": "ipython",
    "version": 3
   },
   "file_extension": ".py",
   "mimetype": "text/x-python",
   "name": "python",
   "nbconvert_exporter": "python",
   "pygments_lexer": "ipython3",
   "version": "3.12.4"
  }
 },
 "nbformat": 4,
 "nbformat_minor": 5
}
