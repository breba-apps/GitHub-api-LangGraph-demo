{
 "cells": [
  {
   "cell_type": "code",
   "execution_count": null,
   "id": "f75489c1-258c-4333-a063-9b3d59474d5a",
   "metadata": {},
   "outputs": [],
   "source": [
    "import os\n",
    "import requests\n",
    "\n",
    "from dotenv import load_dotenv\n",
    "from flask import Flask, jsonify\n",
    "\n",
    "from flask_cors import CORS\n",
    "\n",
    "app = Flask(__name__)\n",
    "CORS(app, resources={r\"/*\": {\"origins\": \"http://localhost:3000\"}})\n",
    "\n",
    "load_dotenv()\n",
    "\n",
    "GITHUB_REPO = \"breba-apps/TempRepo\"  # Change to your repository\n",
    "GITHUB_TOKEN = os.getenv(\"GITHUB_TOKEN\")  # Use an environment variable for security\n",
    "\n",
    "HEADERS = {\"Authorization\": f\"token {GITHUB_TOKEN}\"} if GITHUB_TOKEN else {}\n",
    "\n",
    "\n",
    "def get_most_prolific_author():\n",
    "    url = f\"https://api.github.com/repos/{GITHUB_REPO}/issues?state=all&per_page=100\"\n",
    "    response = requests.get(url, headers=HEADERS)\n",
    "    \n",
    "    if response.status_code != 200:\n",
    "        return None, 0\n",
    "\n",
    "    issues = response.json()\n",
    "    author_count = {}\n",
    "\n",
    "    for issue in issues:\n",
    "        author = issue[\"user\"][\"login\"]\n",
    "        author_count[author] = author_count.get(author, 0) + 1\n",
    "\n",
    "    # Find the author with the most issues\n",
    "    most_prolific = max(author_count, key=author_count.get, default=None)\n",
    "    return most_prolific, author_count.get(most_prolific, 0)\n",
    "\n",
    "\n",
    "def count_author_comments(author):\n",
    "    url = f\"https://api.github.com/repos/{GITHUB_REPO}/issues/comments?per_page=100\"\n",
    "    response = requests.get(url, headers=HEADERS)\n",
    "\n",
    "    if response.status_code != 200:\n",
    "        return 0\n",
    "\n",
    "    comments = response.json()\n",
    "    return sum(1 for comment in comments if comment[\"user\"][\"login\"] == author)\n",
    "\n",
    "\n",
    "@app.route(\"/data\")\n",
    "def get_github_data():\n",
    "    author, issue_count = get_most_prolific_author()\n",
    "    \n",
    "    if not author:\n",
    "        return jsonify({\"error\": \"Failed to fetch GitHub data\"}), 500\n",
    "\n",
    "    comment_count = count_author_comments(author)\n",
    "\n",
    "    result = {\"data\": [{\"name\": author, \"issue_count\": issue_count, \"comment_count\": comment_count}]}\n",
    "    return jsonify(result)\n"
   ]
  },
  {
   "cell_type": "code",
   "execution_count": null,
   "id": "edd05442-2e82-4cfc-a80f-34fc0dc7f34e",
   "metadata": {},
   "outputs": [],
   "source": [
    "app.run(debug=False, port=5001)"
   ]
  }
 ],
 "metadata": {
  "kernelspec": {
   "display_name": "Python 3 (ipykernel)",
   "language": "python",
   "name": "python3"
  },
  "language_info": {
   "codemirror_mode": {
    "name": "ipython",
    "version": 3
   },
   "file_extension": ".py",
   "mimetype": "text/x-python",
   "name": "python",
   "nbconvert_exporter": "python",
   "pygments_lexer": "ipython3",
   "version": "3.12.4"
  }
 },
 "nbformat": 4,
 "nbformat_minor": 5
}
