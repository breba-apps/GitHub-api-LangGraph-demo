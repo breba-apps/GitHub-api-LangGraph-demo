{
 "cells": [
  {
   "cell_type": "code",
   "execution_count": null,
   "id": "451c029c-b5b1-47c2-ad6b-baa8553115f5",
   "metadata": {
    "editable": true,
    "slideshow": {
     "slide_type": "skip"
    },
    "tags": []
   },
   "outputs": [],
   "source": [
    "%pip install -q dotenv langchain_community langchain_openai pygithub langgraph pydantic flask flask_cors"
   ]
  },
  {
   "cell_type": "markdown",
   "id": "dabf1a06-2461-4734-8608-072a6fc9bba3",
   "metadata": {
    "editable": true,
    "slideshow": {
     "slide_type": "slide"
    },
    "tags": []
   },
   "source": [
    "# Initializing tools/functions"
   ]
  },
  {
   "cell_type": "code",
   "execution_count": 19,
   "id": "c288de0e-51cc-485e-971c-f5920e83f0b3",
   "metadata": {
    "editable": true,
    "slideshow": {
     "slide_type": "fragment"
    },
    "tags": []
   },
   "outputs": [],
   "source": [
    "from dotenv import load_dotenv\n",
    "\n",
    "from langchain_community.agent_toolkits.github.toolkit import GitHubToolkit\n",
    "from langchain_community.utilities.github import GitHubAPIWrapper\n",
    "from langchain_openai import ChatOpenAI\n",
    "\n",
    "\n",
    "load_dotenv()\n",
    "\n",
    "# Toolkit is pre-programmed api wrapper for GitHub sdk. Why does it need to be pre-programmed?\n",
    "toolkit = GitHubToolkit.from_github_api_wrapper(GitHubAPIWrapper())\n",
    "\n",
    "llm = ChatOpenAI(model=\"gpt-4o\", temperature=0)\n",
    "\n",
    "tools = [setattr(tool, \"name\", tool.mode) or tool for tool in toolkit.get_tools()]"
   ]
  },
  {
   "cell_type": "code",
   "execution_count": 7,
   "id": "5a5059de-ea29-46f0-b1c9-e2f0b0118acb",
   "metadata": {
    "editable": true,
    "slideshow": {
     "slide_type": "fragment"
    },
    "tags": []
   },
   "outputs": [
    {
     "name": "stdout",
     "output_type": "stream",
     "text": [
      "get_issues\n",
      "get_issue\n",
      "comment_on_issue\n",
      "list_open_pull_requests\n",
      "get_pull_request\n",
      "list_pull_request_files\n",
      "create_pull_request\n",
      "list_pull_request_files\n",
      "create_file\n",
      "read_file\n",
      "update_file\n",
      "delete_file\n",
      "list_files_in_main_branch\n",
      "list_files_in_bot_branch\n",
      "list_branches_in_repo\n",
      "set_active_branch\n",
      "create_branch\n",
      "get_files_from_directory\n",
      "search_issues_and_prs\n",
      "search_code\n",
      "create_review_request\n"
     ]
    }
   ],
   "source": [
    "for tool in tools:\n",
    "    print(tool.name)"
   ]
  },
  {
   "cell_type": "markdown",
   "id": "068cdc73-b2a3-4d17-a538-2931e5ad8e9d",
   "metadata": {
    "editable": true,
    "slideshow": {
     "slide_type": ""
    },
    "tags": []
   },
   "source": [
    "## Goals\n",
    "- ~~Dynamic tools~~"
   ]
  },
  {
   "cell_type": "markdown",
   "id": "03fff577-eb02-4553-9544-226f6722b7e4",
   "metadata": {
    "editable": true,
    "slideshow": {
     "slide_type": "slide"
    },
    "tags": []
   },
   "source": [
    "# Create a ReAct Agent"
   ]
  },
  {
   "cell_type": "code",
   "execution_count": 8,
   "id": "1cbea162-001b-4e3c-a5f2-152c25ac3702",
   "metadata": {
    "editable": true,
    "slideshow": {
     "slide_type": "fragment"
    },
    "tags": []
   },
   "outputs": [],
   "source": [
    "from langgraph.prebuilt import create_react_agent\n",
    "from pydantic import BaseModel\n",
    "\n",
    "# Have to setup a pydantic model for structured output, otherwise have to manually explain format to the Agent\n",
    "class Author(BaseModel):\n",
    "    \"\"\"Respond to the user in this format.\"\"\"\n",
    "    name: str\n",
    "    issue_count: int\n",
    "    comment_count: int\n",
    "\n",
    "# ReAct agent, a hybrid deliberative and reactive agent\n",
    "agent_executor = create_react_agent(llm, tools, response_format=Author)"
   ]
  },
  {
   "cell_type": "markdown",
   "id": "49b36d37-1275-4f5a-a8b3-6e2ee45b370e",
   "metadata": {
    "editable": true,
    "slideshow": {
     "slide_type": ""
    },
    "tags": []
   },
   "source": [
    "## Goals\n",
    "- ~~Dynamic tools~~\n",
    "- ~~Unstructured data~~\n",
    "\n",
    "\n",
    "\n",
    "\n",
    "\n",
    "\n",
    "\n",
    "\n",
    "\n",
    "\n",
    "\n"
   ]
  },
  {
   "cell_type": "markdown",
   "id": "3aac8a49-5961-457d-82a2-5d89b6e9c66c",
   "metadata": {
    "editable": true,
    "slideshow": {
     "slide_type": "slide"
    },
    "tags": []
   },
   "source": [
    "<div align=\"center\">\n",
    "  <h1 style=\"color: orange;\">ReAct</h1>\n",
    "</div>\n",
    "\n",
    "- <span style=\"font-size: 20px;\"><b>ReAct: Synergizing Reasoning And Acting In Language Models</b></span>  \n",
    "  [https://arxiv.org/pdf/2210.03629](https://arxiv.org/pdf/2210.03629)\n",
    "- <span style=\"font-size: 20px;\"><b>Reason - Act - Observe - Iterate loop</b></span>\n",
    "- <span style=\"font-size: 20px;\"><b>Function/Tool calling in OpenAI/Anthropic</b></span>\n",
    "- <span style=\"font-size: 20px;\"><b>Limitations of LangGraph implementation</b></span>\n",
    "  - <span style=\"font-size: 20px;\">Only two nodes</span>\n",
    "  - <span style=\"font-size: 20px;\">No human in the loop</span>\n",
    "\n",
    "<img src=\"./graph.png\" alt=\"ReAct Flowchart\" style=\"float: right; width: 300px;\">\n"
   ]
  },
  {
   "cell_type": "markdown",
   "id": "16bc9c58-c279-40bc-8c40-8a54dbd79942",
   "metadata": {
    "editable": true,
    "slideshow": {
     "slide_type": "slide"
    },
    "tags": []
   },
   "source": [
    "# Using the agent"
   ]
  },
  {
   "cell_type": "code",
   "execution_count": 16,
   "id": "855a48a4-7535-4c49-baa9-363549d0a795",
   "metadata": {
    "editable": true,
    "slideshow": {
     "slide_type": ""
    },
    "tags": []
   },
   "outputs": [],
   "source": [
    "import json\n",
    "from flask import Flask\n",
    "from flask_cors import CORS\n",
    "\n",
    "app = Flask(__name__)\n",
    "CORS(app, resources={r\"/*\": {\"origins\": \"http://localhost:3000\"}})\n",
    "\n",
    "@app.route('/data', methods=['GET'])\n",
    "def get_data():\n",
    "    # Very limiting, has to conform to the model and available tools. Underwhelming experience.\n",
    "    # But prompt looks like natural language. Very reassuring\n",
    "    example_query = (\"For the most prolific author of github issues, give me the number of issues they have created. \"\n",
    "                     \"Given the author's issues, I want to know the number of comments that same author has made.\" )\n",
    "\n",
    "    events = agent_executor.stream(\n",
    "        {\"messages\": [(\"user\", example_query)]},\n",
    "        stream_mode=\"values\",\n",
    "    )\n",
    "    event = {}\n",
    "    for event in events:\n",
    "        event[\"messages\"][-1].pretty_print()\n",
    "\n",
    "    # Structured output is a nice breakthrough, previously getting JSON output was not consistent\n",
    "    structured_response = event.get(\"structured_response\")\n",
    "    data = {\"data\": [structured_response.model_dump()]}\n",
    "    print(f\"data: {data}\", flush=True)\n",
    "    return json.dumps(data)\n",
    "    "
   ]
  },
  {
   "cell_type": "markdown",
   "id": "26136978-042c-4d37-b25e-2c202f2dfa92",
   "metadata": {},
   "source": [
    "## Goals\n",
    "- ~~End user will write only natural language~~\n",
    "- ~~Unstructured data~~\n",
    "- ~~Implicit algorithms~~\n",
    "- ~~Dynamic tools~~\n",
    "- ~~Human in the loop built-in~~\n",
    "- ~~Consistent output~~\n",
    "- ~~Iterative development~~\n",
    "\n"
   ]
  },
  {
   "cell_type": "code",
   "execution_count": 17,
   "id": "b9f748c2-d7b4-4a84-ba55-17db007c35b4",
   "metadata": {
    "editable": true,
    "slideshow": {
     "slide_type": ""
    },
    "tags": []
   },
   "outputs": [],
   "source": [
    "def start_server():\n",
    "    app.run(debug=False, port=5001, use_reloader=False)\n",
    "\n",
    "from threading import Thread\n",
    "\n",
    "flask_thread = Thread(target=start_server, daemon=True)\n",
    "flask_thread.start()"
   ]
  },
  {
   "cell_type": "code",
   "execution_count": 11,
   "id": "5e143cf1-5539-4e76-9843-27058c277dab",
   "metadata": {
    "editable": true,
    "slideshow": {
     "slide_type": ""
    },
    "tags": []
   },
   "outputs": [
    {
     "name": "stdout",
     "output_type": "stream",
     "text": [
      "{\"data\": [{\"name\": \"yasonk\", \"issue_count\": 2, \"comment_count\": 3}]}"
     ]
    }
   ],
   "source": [
    "!curl http://127.0.0.1:5001/data"
   ]
  },
  {
   "cell_type": "code",
   "execution_count": 15,
   "id": "f5f6094c-b004-4195-bb62-a574779807e0",
   "metadata": {
    "editable": true,
    "slideshow": {
     "slide_type": ""
    },
    "tags": []
   },
   "outputs": [],
   "source": [
    "flask_thread.join(timeout=1)"
   ]
  }
 ],
 "metadata": {
  "kernelspec": {
   "display_name": "Python 3 (ipykernel)",
   "language": "python",
   "name": "python3"
  },
  "language_info": {
   "codemirror_mode": {
    "name": "ipython",
    "version": 3
   },
   "file_extension": ".py",
   "mimetype": "text/x-python",
   "name": "python",
   "nbconvert_exporter": "python",
   "pygments_lexer": "ipython3",
   "version": "3.12.4"
  }
 },
 "nbformat": 4,
 "nbformat_minor": 5
}
